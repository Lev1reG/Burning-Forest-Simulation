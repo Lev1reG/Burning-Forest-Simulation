{
 "cells": [
  {
   "cell_type": "markdown",
   "metadata": {},
   "source": [
    "# **Tugas No.9 Hal 445 Teknik Pemodelan dan Simulasi**\n",
    "\n",
    "Develop a fire simulation in which every cell in a 17 x 17 grid has a tree and only the middle cell's tree is on fire initially. Do not consider the posibility of lightning or tree growth. The simulaton should have a parameter for *burnProbability*, which is the probability that a tree adjacent to a burning tree catches fire. The function should return the percent of the forest burned. The program should run eight experiments with *burnProbability* = 10%, 20%, 30%, ..., and 90% and should conduct each experiment 10 times. Also, have the code determine the average percent burned for each probability. Plot the data and fit a curve to the data."
   ]
  },
  {
   "cell_type": "code",
   "execution_count": 1,
   "metadata": {},
   "outputs": [],
   "source": [
    "%matplotlib inline"
   ]
  },
  {
   "cell_type": "code",
   "execution_count": 2,
   "metadata": {},
   "outputs": [],
   "source": [
    "import numpy as np\n",
    "import matplotlib\n",
    "import matplotlib.pyplot as plt\n",
    "import matplotlib.image as mpimg\n",
    "import matplotlib.animation as animation\n",
    "from IPython.display import HTML\n",
    "from math import *\n",
    "from random import *\n",
    "from scipy.optimize import curve_fit\n",
    "\n",
    "matplotlib.rc('animation', html='html5')"
   ]
  },
  {
   "cell_type": "markdown",
   "metadata": {},
   "source": [
    "## Developing Function"
   ]
  },
  {
   "cell_type": "markdown",
   "metadata": {},
   "source": [
    "### Constants\n",
    "\n",
    "Grid-site values:\n",
    "- EMPTY (0) - empty\n",
    "- TREE (1) - non-burning tree\n",
    "- BURNING (2) - burning tree\n",
    "\n",
    "probTree = probability of grid site occupied by tree (value 1);i.e., tree density\n",
    "\n",
    "burnProbability = probability that a tree adjacent to a burning tree catches fire"
   ]
  },
  {
   "cell_type": "code",
   "execution_count": 3,
   "metadata": {},
   "outputs": [],
   "source": [
    "global EMPTY, TREE, BURNING\n",
    "EMPTY = 0\n",
    "TREE = 1\n",
    "BURNING = 2"
   ]
  },
  {
   "cell_type": "markdown",
   "metadata": {},
   "source": [
    "### Init Forest\n",
    "\n",
    "pre:\n",
    "- n is the size (number of rows or column) of the square grid and is positive.\n",
    "- probTree is the probability that a site is initially occupied by tree.\n",
    "- the middle cell's tree is on fire initially\n",
    "\n",
    "post:\n",
    "- A grid as described above was returned"
   ]
  },
  {
   "cell_type": "code",
   "execution_count": 4,
   "metadata": {},
   "outputs": [],
   "source": [
    "def initForest(probTree):\n",
    "  n = 17\n",
    "  forest = np.zeros((n, n))\n",
    "  for i in range(0, n):\n",
    "    for j in range(0, n):\n",
    "      if (random() < probTree):\n",
    "        forest[i, j] = TREE\n",
    "      else:\n",
    "        forest[i, j] = EMPTY\n",
    "  forest[8, 8] = BURNING\n",
    "  return forest"
   ]
  },
  {
   "cell_type": "markdown",
   "metadata": {},
   "source": [
    "### Spread\n",
    "\n",
    "An empty cell remains empty. A burning cell becomes empty. If a neighbor to north, east, south, or west of a tree is burning, then the tree does not burn with a probability of probImmune."
   ]
  },
  {
   "cell_type": "code",
   "execution_count": 5,
   "metadata": {},
   "outputs": [],
   "source": [
    "def spread(site, N, E, S, W, burnProbability):\n",
    "  if (site == EMPTY):\n",
    "    newSite = EMPTY\n",
    "  else:\n",
    "    if (site == BURNING):\n",
    "      newSite = EMPTY\n",
    "    else:\n",
    "      if (N == BURNING or E == BURNING or S == BURNING or W == BURNING):\n",
    "        if (random() < burnProbability):\n",
    "          newSite = BURNING\n",
    "        else:\n",
    "          newSite = TREE\n",
    "      else:\n",
    "        newSite = TREE\n",
    "  return newSite"
   ]
  },
  {
   "cell_type": "markdown",
   "metadata": {},
   "source": [
    "### Reflecting Lat\n",
    "\n",
    "Pre: lat is grid\n",
    "\n",
    "Post: A grid extended one cell in each direction with periodic boundary conditions was returned."
   ]
  },
  {
   "cell_type": "code",
   "execution_count": 6,
   "metadata": {},
   "outputs": [],
   "source": [
    "def reflectingLat(lat):\n",
    "  latNS = np.row_stack((lat[0], lat, lat[-1]))\n",
    "  return np.column_stack((latNS[:, 0], latNS, latNS[:, -1]))"
   ]
  },
  {
   "cell_type": "markdown",
   "metadata": {},
   "source": [
    "### Apply Extended\n",
    "\n",
    "Function returns a matrix of applications of fucntion spread[site, N, E, S, W, burningProb] to each element (site) of extended matrix latExtended except for the first and last rows and columns"
   ]
  },
  {
   "cell_type": "code",
   "execution_count": 7,
   "metadata": {},
   "outputs": [],
   "source": [
    "def applyExtended(latExt, burnProbability):\n",
    "  n = latExt.shape[0] - 2\n",
    "  newLat = np.zeros((n, n))\n",
    "\n",
    "  for i in range(1, n + 1):\n",
    "    for j in range(1, n + 1):\n",
    "      site = latExt[i, j]\n",
    "      N = latExt[i - 1, j]\n",
    "      E = latExt[i, j + 1]\n",
    "      S = latExt[i + 1, j]\n",
    "      W = latExt[i, j - 1]\n",
    "      newLat[i - 1, j - 1] = spread(site, N, E, S, W, burnProbability)\n",
    "  return newLat"
   ]
  },
  {
   "cell_type": "markdown",
   "metadata": {},
   "source": [
    "### Fire\n",
    "\n",
    "Pre:\n",
    "- probTree is the probability that a site is initially occupied by tree.\n",
    "\n",
    "- burnProbability = probability that a tree adjacent to a burning tree catches fire\n",
    "\n",
    "- t is the number of time steps.\n",
    "\n",
    "- spread is the function for the updating rules at each grid point.\n",
    "\n",
    "Post:\n",
    "- A list of the initial grid and the grid at each time step was returned."
   ]
  },
  {
   "cell_type": "code",
   "execution_count": 8,
   "metadata": {},
   "outputs": [],
   "source": [
    "def fire(probTree, burnProbability, t):\n",
    "  forest = initForest(probTree)\n",
    "\n",
    "  # Perform simulation\n",
    "  grids = np.zeros((t + 1, 17, 17))\n",
    "  grids[0, :, :] = forest\n",
    "  for i in range(1, t + 1):\n",
    "    forest = reflectingLat(forest)\n",
    "    forest = applyExtended(forest, burnProbability)\n",
    "    grids[i, :, :] = forest\n",
    "  return grids"
   ]
  },
  {
   "cell_type": "markdown",
   "metadata": {},
   "source": [
    "### Set up formatting for the movie files"
   ]
  },
  {
   "cell_type": "code",
   "execution_count": 9,
   "metadata": {},
   "outputs": [],
   "source": [
    "Writer = animation.writers['ffmpeg']\n",
    "writer = Writer(fps=15, metadata=dict(artist='Me'), bitrate=1800)"
   ]
  },
  {
   "cell_type": "markdown",
   "metadata": {},
   "source": [
    "### Make Color Grid\n",
    "\n",
    "Function to display a list of grids with cell values colored as follows:\n",
    "- EMPTY -> yellow,\n",
    "- TREE -> green,\n",
    "- BURNING -> burnt orange"
   ]
  },
  {
   "cell_type": "code",
   "execution_count": 10,
   "metadata": {},
   "outputs": [],
   "source": [
    "def makeColorGrid(grid):\n",
    "  n = grid.shape[0]\n",
    "  colorGrid = np.zeros((n, n, 3))\n",
    "  colorGrid[:, :, 0] = 1\n",
    "  colorGrid[:, :, 1] = 1\n",
    "  for i in range(0, n):\n",
    "    for j in range(0, n):\n",
    "      if (grid[i, j] == TREE):\n",
    "        colorGrid[i, j, 0] = 0.1\n",
    "        colorGrid[i, j, 1] = 0.75\n",
    "        colorGrid[i, j, 2] = 0.02\n",
    "      if (grid[i, j] == BURNING):\n",
    "        colorGrid[i, j, 0] = 0.6\n",
    "        colorGrid[i, j, 1] = 0.2\n",
    "        colorGrid[i, j, 2] = 0.1\n",
    "  return colorGrid"
   ]
  },
  {
   "cell_type": "markdown",
   "metadata": {},
   "source": [
    "### Visualize Function"
   ]
  },
  {
   "cell_type": "code",
   "execution_count": 11,
   "metadata": {},
   "outputs": [],
   "source": [
    "def visualize(grids):\n",
    "    fig = plt.figure()\n",
    "    plt.axis('off')\n",
    "    im = plt.imshow(makeColorGrid(grids[0, :, :]), animated=True)\n",
    "\n",
    "    # The animation function: called to produce a frame for each generation.\n",
    "    def updatefig(i, *args):\n",
    "        im.set_array(makeColorGrid(grids[i, :, :]))\n",
    "        return im,\n",
    "\n",
    "    grid_ani = animation.FuncAnimation(fig, updatefig, save_count=len(grids), interval=50, blit=False)\n",
    "    \n",
    "    plt.show()\n",
    "    return HTML(grid_ani.to_html5_video())"
   ]
  },
  {
   "cell_type": "markdown",
   "metadata": {},
   "source": [
    "### Count Tree"
   ]
  },
  {
   "cell_type": "code",
   "execution_count": 12,
   "metadata": {},
   "outputs": [],
   "source": [
    "def count_ones(arr):\n",
    "    count = 0\n",
    "    for row in arr:\n",
    "        for val in row:\n",
    "            if val == 1:\n",
    "                count += 1\n",
    "    return count"
   ]
  },
  {
   "cell_type": "markdown",
   "metadata": {},
   "source": [
    "## Simulation\n",
    "\n",
    "All of the simulation use probTree of 70%. Each simulation will be run 10 times"
   ]
  },
  {
   "cell_type": "code",
   "execution_count": 13,
   "metadata": {},
   "outputs": [],
   "source": [
    "probTree = 0.7\n",
    "avgPercentBurned = []\n",
    "x_axis = []"
   ]
  },
  {
   "cell_type": "markdown",
   "metadata": {},
   "source": [
    "### 1. burnProbability = 10%"
   ]
  },
  {
   "cell_type": "code",
   "execution_count": 14,
   "metadata": {},
   "outputs": [
    {
     "name": "stdout",
     "output_type": "stream",
     "text": [
      "Average percent burned:  0.001944706215264376\n"
     ]
    }
   ],
   "source": [
    "burnProbability = 0.1\n",
    "x_axis.append(burnProbability)\n",
    "\n",
    "percentBurned = []\n",
    "for i in range(10):\n",
    "    grids = fire(probTree, burnProbability, 50)\n",
    "    before = count_ones(grids[0])\n",
    "    after = count_ones(grids[-1])\n",
    "    percentBurned.append((before - after) / before)\n",
    "\n",
    "avgPercentBurned.append(sum(percentBurned) / len(percentBurned))\n",
    "\n",
    "print(\"Average percent burned: \", avgPercentBurned[-1])\n",
    "    "
   ]
  },
  {
   "cell_type": "markdown",
   "metadata": {},
   "source": [
    "### 2. burnProbability = 20%"
   ]
  },
  {
   "cell_type": "code",
   "execution_count": 15,
   "metadata": {},
   "outputs": [
    {
     "name": "stdout",
     "output_type": "stream",
     "text": [
      "Average percent burned:  0.003847434884603658\n"
     ]
    }
   ],
   "source": [
    "burnProbability = 0.2\n",
    "x_axis.append(burnProbability)\n",
    "\n",
    "percentBurned = []\n",
    "for i in range(10):\n",
    "    grids = fire(probTree, burnProbability, 50)\n",
    "    before = count_ones(grids[0])\n",
    "    after = count_ones(grids[-1])\n",
    "    percentBurned.append((before - after) / before)\n",
    "\n",
    "avgPercentBurned.append(sum(percentBurned) / len(percentBurned))\n",
    "\n",
    "print(\"Average percent burned: \", avgPercentBurned[-1])"
   ]
  },
  {
   "cell_type": "markdown",
   "metadata": {},
   "source": [
    "### 3. burnProbability = 30%"
   ]
  },
  {
   "cell_type": "code",
   "execution_count": 16,
   "metadata": {},
   "outputs": [
    {
     "name": "stdout",
     "output_type": "stream",
     "text": [
      "Average percent burned:  0.006726153455264922\n"
     ]
    }
   ],
   "source": [
    "burnProbability = 0.3\n",
    "x_axis.append(burnProbability)\n",
    "\n",
    "percentBurned = []\n",
    "for i in range(10):\n",
    "    grids = fire(probTree, burnProbability, 50)\n",
    "    before = count_ones(grids[0])\n",
    "    after = count_ones(grids[-1])\n",
    "    percentBurned.append((before - after) / before)\n",
    "\n",
    "avgPercentBurned.append(sum(percentBurned) / len(percentBurned))\n",
    "\n",
    "print(\"Average percent burned: \", avgPercentBurned[-1])"
   ]
  },
  {
   "cell_type": "markdown",
   "metadata": {},
   "source": [
    "### 4. burnProbability = 40%"
   ]
  },
  {
   "cell_type": "code",
   "execution_count": 17,
   "metadata": {},
   "outputs": [
    {
     "name": "stdout",
     "output_type": "stream",
     "text": [
      "Average percent burned:  0.02014333027380335\n"
     ]
    }
   ],
   "source": [
    "burnProbability = 0.4\n",
    "x_axis.append(burnProbability)\n",
    "\n",
    "percentBurned = []\n",
    "for i in range(10):\n",
    "    grids = fire(probTree, burnProbability, 50)\n",
    "    before = count_ones(grids[0])\n",
    "    after = count_ones(grids[-1])\n",
    "    percentBurned.append((before - after) / before)\n",
    "\n",
    "avgPercentBurned.append(sum(percentBurned) / len(percentBurned))\n",
    "\n",
    "print(\"Average percent burned: \", avgPercentBurned[-1])"
   ]
  },
  {
   "cell_type": "markdown",
   "metadata": {},
   "source": [
    "### 5. burnProbability = 50%"
   ]
  },
  {
   "cell_type": "code",
   "execution_count": 18,
   "metadata": {},
   "outputs": [
    {
     "name": "stdout",
     "output_type": "stream",
     "text": [
      "Average percent burned:  0.01674134187088109\n"
     ]
    }
   ],
   "source": [
    "burnProbability = 0.5\n",
    "x_axis.append(burnProbability)\n",
    "\n",
    "percentBurned = []\n",
    "for i in range(10):\n",
    "    grids = fire(probTree, burnProbability, 50)\n",
    "    before = count_ones(grids[0])\n",
    "    after = count_ones(grids[-1])\n",
    "    percentBurned.append((before - after) / before)\n",
    "\n",
    "avgPercentBurned.append(sum(percentBurned) / len(percentBurned))\n",
    "\n",
    "print(\"Average percent burned: \", avgPercentBurned[-1])"
   ]
  },
  {
   "cell_type": "markdown",
   "metadata": {},
   "source": [
    "### 6. burnProbability = 60%"
   ]
  },
  {
   "cell_type": "code",
   "execution_count": 19,
   "metadata": {},
   "outputs": [
    {
     "name": "stdout",
     "output_type": "stream",
     "text": [
      "Average percent burned:  0.08379598937394175\n"
     ]
    }
   ],
   "source": [
    "burnProbability = 0.6\n",
    "x_axis.append(burnProbability)\n",
    "\n",
    "percentBurned = []\n",
    "for i in range(10):\n",
    "    grids = fire(probTree, burnProbability, 50)\n",
    "    before = count_ones(grids[0])\n",
    "    after = count_ones(grids[-1])\n",
    "    percentBurned.append((before - after) / before)\n",
    "\n",
    "avgPercentBurned.append(sum(percentBurned) / len(percentBurned))\n",
    "\n",
    "print(\"Average percent burned: \", avgPercentBurned[-1])"
   ]
  },
  {
   "cell_type": "markdown",
   "metadata": {},
   "source": [
    "### 7. burnProbability = 70%"
   ]
  },
  {
   "cell_type": "code",
   "execution_count": 20,
   "metadata": {},
   "outputs": [
    {
     "name": "stdout",
     "output_type": "stream",
     "text": [
      "Average percent burned:  0.1508401013720628\n"
     ]
    }
   ],
   "source": [
    "burnProbability = 0.7\n",
    "x_axis.append(burnProbability)\n",
    "\n",
    "percentBurned = []\n",
    "for i in range(10):\n",
    "    grids = fire(probTree, burnProbability, 50)\n",
    "    before = count_ones(grids[0])\n",
    "    after = count_ones(grids[-1])\n",
    "    percentBurned.append((before - after) / before)\n",
    "\n",
    "avgPercentBurned.append(sum(percentBurned) / len(percentBurned))\n",
    "\n",
    "print(\"Average percent burned: \", avgPercentBurned[-1])"
   ]
  },
  {
   "cell_type": "markdown",
   "metadata": {},
   "source": [
    "### 8. burnProbability = 80%"
   ]
  },
  {
   "cell_type": "code",
   "execution_count": 21,
   "metadata": {},
   "outputs": [
    {
     "name": "stdout",
     "output_type": "stream",
     "text": [
      "Average percent burned:  0.22305240921433356\n"
     ]
    }
   ],
   "source": [
    "burnProbability = 0.8\n",
    "x_axis.append(burnProbability)\n",
    "\n",
    "percentBurned = []\n",
    "for i in range(10):\n",
    "    grids = fire(probTree, burnProbability, 50)\n",
    "    before = count_ones(grids[0])\n",
    "    after = count_ones(grids[-1])\n",
    "    percentBurned.append((before - after) / before)\n",
    "\n",
    "avgPercentBurned.append(sum(percentBurned) / len(percentBurned))\n",
    "\n",
    "print(\"Average percent burned: \", avgPercentBurned[-1])"
   ]
  },
  {
   "cell_type": "markdown",
   "metadata": {},
   "source": [
    "### 9. burnProbability = 90%"
   ]
  },
  {
   "cell_type": "code",
   "execution_count": 22,
   "metadata": {},
   "outputs": [
    {
     "name": "stdout",
     "output_type": "stream",
     "text": [
      "Average percent burned:  0.7236599344319549\n"
     ]
    }
   ],
   "source": [
    "burnProbability = 0.9\n",
    "x_axis.append(burnProbability)\n",
    "\n",
    "percentBurned = []\n",
    "for i in range(10):\n",
    "    grids = fire(probTree, burnProbability, 50)\n",
    "    before = count_ones(grids[0])\n",
    "    after = count_ones(grids[-1])\n",
    "    percentBurned.append((before - after) / before)\n",
    "\n",
    "avgPercentBurned.append(sum(percentBurned) / len(percentBurned))\n",
    "\n",
    "print(\"Average percent burned: \", avgPercentBurned[-1])"
   ]
  },
  {
   "cell_type": "markdown",
   "metadata": {},
   "source": [
    "## Plot & Fit a Curve Average Percent Burned for Each Probability"
   ]
  },
  {
   "cell_type": "code",
   "execution_count": 23,
   "metadata": {},
   "outputs": [
    {
     "data": {
      "text/plain": [
       "Text(0, 0.5, 'Average Percent Burned')"
      ]
     },
     "execution_count": 23,
     "metadata": {},
     "output_type": "execute_result"
    },
    {
     "data": {
      "image/png": "[encoded data removed]",
      "text/plain": [
       "<Figure size 640x480 with 1 Axes>"
      ]
     },
     "metadata": {},
     "output_type": "display_data"
    }
   ],
   "source": [
    "def exponential_func(x, a, b):\n",
    "    return a * np.exp(b * x)\n",
    "\n",
    "popt, pcov = curve_fit(exponential_func, x_axis, avgPercentBurned)\n",
    "\n",
    "plt.scatter(x_axis, avgPercentBurned)\n",
    "plt.plot(x_axis, exponential_func(np.array(x_axis), *popt), color='red', label='Fitted Curve')\n",
    "\n",
    "plt.title('Average Percent Burned vs. Burn Probability')\n",
    "plt.xlabel('Burn Probability')\n",
    "plt.ylabel('Average Percent Burned')"
   ]
  }
 ],
 "metadata": {
  "kernelspec": {
   "display_name": "Python 3",
   "language": "python",
   "name": "python3"
  },
  "language_info": {
   "codemirror_mode": {
    "name": "ipython",
    "version": 3
   },
   "file_extension": ".py",
   "mimetype": "text/x-python",
   "name": "python",
   "nbconvert_exporter": "python",
   "pygments_lexer": "ipython3",
   "version": "3.10.11"
  }
 },
 "nbformat": 4,
 "nbformat_minor": 2
}
